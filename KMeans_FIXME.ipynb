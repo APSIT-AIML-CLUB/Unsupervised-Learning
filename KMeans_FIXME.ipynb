{
 "cells": [
  {
   "cell_type": "markdown",
   "metadata": {
    "colab_type": "text",
    "id": "nAuqPwTnLipr"
   },
   "source": [
    "## Importing the libraries"
   ]
  },
  {
   "cell_type": "code",
   "execution_count": 2,
   "metadata": {
    "colab": {},
    "colab_type": "code",
    "id": "yUXGcC4KLmcL"
   },
   "outputs": [],
   "source": [
    "import numpy as np\n",
    "import matplotlib.pyplot as plt\n",
    "import pandas as pd\n",
    "import seaborn as sns\n",
    "sns.set_style(\"darkgrid\")"
   ]
  },
  {
   "cell_type": "markdown",
   "metadata": {
    "colab_type": "text",
    "id": "5LciKOr8Lo5O"
   },
   "source": [
    "## Importing the dataset"
   ]
  },
  {
   "cell_type": "code",
   "execution_count": null,
   "metadata": {
    "colab": {},
    "colab_type": "code",
    "id": "9RlmPzZGLtGi"
   },
   "outputs": [],
   "source": [
    "# Read the csv file into a dataframe\n",
    "df = pd.FIXME('FIXME.csv')\n",
    "\n",
    "# Print out the first 5 rows of the dataframe\n",
    "df.FIXME()"
   ]
  },
  {
   "cell_type": "code",
   "execution_count": null,
   "metadata": {},
   "outputs": [],
   "source": [
    "# After insepecting all the columns only choose the columns that would be necessary for clustering\n",
    "\n",
    "# Use \"index location\" method and 2 important columns over which we can visualize the clusters\n",
    "X= df.FIXME[FIXME, FIXME].values"
   ]
  },
  {
   "cell_type": "markdown",
   "metadata": {
    "colab_type": "text",
    "id": "nWC2EWp2Lx5G"
   },
   "source": [
    "## Using the elbow method to find the optimal number of clusters"
   ]
  },
  {
   "cell_type": "code",
   "execution_count": 21,
   "metadata": {
    "colab": {
     "base_uri": "https://localhost:8080/",
     "height": 295
    },
    "colab_type": "code",
    "executionInfo": {
     "elapsed": 2064,
     "status": "ok",
     "timestamp": 1586372911621,
     "user": {
      "displayName": "Hadelin de Ponteves",
      "photoUrl": "https://lh3.googleusercontent.com/a-/AOh14GhEuXdT7eQweUmRPW8_laJuPggSK6hfvpl5a6WBaA=s64",
      "userId": "15047218817161520419"
     },
     "user_tz": -240
    },
    "id": "zWs6ciOoL1b3",
    "outputId": "893027bb-ecf9-45a4-f229-f54cebdccee2"
   },
   "outputs": [],
   "source": [
    "from sklearn.cluster import FIXME\n",
    "from sklearn.metrics import FIXME\n",
    "\n",
    "silhouette_scores = []\n",
    "wcss = []\n",
    "\n",
    "for i in range(FIXME, FIXME):  # Loop over the number of clusters that you want to test for\n",
    "    kmeans = KMeans(n_clusters=FIXME, init='FIXME', FIXME=42)\n",
    "    labels = kmeans.FIXME(X)\n",
    "    score = silhouette_score(X, FIXME)\n",
    "    # append both evaluation measures to the list of measures\n",
    "    FIXME.append(kmeans.FIXME)\n",
    "    FIXME.append(score)"
   ]
  },
  {
   "cell_type": "markdown",
   "metadata": {},
   "source": [
    "## Plotting WCSS"
   ]
  },
  {
   "cell_type": "markdown",
   "metadata": {},
   "source": [
    "### Expected Output\n",
    "\n",
    "![WCSS Plot](WCSS.png)"
   ]
  },
  {
   "cell_type": "code",
   "execution_count": null,
   "metadata": {},
   "outputs": [],
   "source": [
    "# Plotting the \"within cluster sum of squares\"\n",
    "\n",
    "# Look at the output and that is how your graph should look like\n",
    "plt.plot(range(FIXME, FIXME), FIXME, marker=\"o\")\n",
    "plt.FIXME('FIXME') # Plot title\n",
    "plt.FIXME('FIXME') # X-axis naming\n",
    "plt.FIXME('FIXME') # Y-axis naming\n",
    "plt.show()"
   ]
  },
  {
   "cell_type": "markdown",
   "metadata": {},
   "source": [
    "## Plotting Silhouette Scores"
   ]
  },
  {
   "cell_type": "markdown",
   "metadata": {},
   "source": [
    "### Expected Output\n",
    "\n",
    "![Silhouette Scores Plot](Silhouette.png)"
   ]
  },
  {
   "cell_type": "code",
   "execution_count": null,
   "metadata": {},
   "outputs": [],
   "source": [
    "# Plotting the \"silhouette scores\"\n",
    "\n",
    "# Look at the output and that is how your graph should look like\n",
    "plt.plot(range(FIXME, FIXME), FIXME, marker=\"o\")\n",
    "plt.FIXME('FIXME') # Plot title\n",
    "plt.FIXME('FIXME') # X-axis naming\n",
    "plt.FIXME('FIXME') # Y-axis naming\n",
    "plt.show()"
   ]
  },
  {
   "cell_type": "markdown",
   "metadata": {
    "colab_type": "text",
    "id": "VgT0mANLL4Nz"
   },
   "source": [
    "## Training the K-Means model on the dataset"
   ]
  },
  {
   "cell_type": "code",
   "execution_count": 30,
   "metadata": {
    "colab": {},
    "colab_type": "code",
    "id": "cjEfU6ZSMAPl"
   },
   "outputs": [],
   "source": [
    "# Use the Optimal number of clusters found using WCSS and Silhouette scores\n",
    "kmeans = KMeans(n_clusters = FIXME, init = 'FIXME', FIXME = 42)\n",
    "y_kmeans = kmeans.FIXME(X)"
   ]
  },
  {
   "cell_type": "markdown",
   "metadata": {
    "colab_type": "text",
    "id": "e7YrS1JAMFnm"
   },
   "source": [
    "## Visualising the clusters"
   ]
  },
  {
   "cell_type": "markdown",
   "metadata": {},
   "source": [
    "### Expected Output\n",
    "\n",
    "![Cluster Plot](KMeans.png)"
   ]
  },
  {
   "cell_type": "code",
   "execution_count": null,
   "metadata": {
    "colab": {
     "base_uri": "https://localhost:8080/",
     "height": 295
    },
    "colab_type": "code",
    "executionInfo": {
     "elapsed": 2048,
     "status": "ok",
     "timestamp": 1586372929246,
     "user": {
      "displayName": "Hadelin de Ponteves",
      "photoUrl": "https://lh3.googleusercontent.com/a-/AOh14GhEuXdT7eQweUmRPW8_laJuPggSK6hfvpl5a6WBaA=s64",
      "userId": "15047218817161520419"
     },
     "user_tz": -240
    },
    "id": "d0ZYecccMHNx",
    "outputId": "01079a1c-4593-4c3e-8c0c-47229c27cd84"
   },
   "outputs": [],
   "source": [
    "# Plot all the clusters\n",
    "\n",
    "# Syntax: (x-axis_value, y-axis_value, size, color, label)\n",
    "# s: size of dots, c: color of dots\n",
    "plt.FIXME(FIXME, FIXME, s = 20, c = 'FIXME', label = 'FIXME') # Cluster 1\n",
    "plt.FIXME(FIXME, FIXME, s = 20, c = 'FIXME', label = 'FIXME') # Cluster 2\n",
    "plt.FIXME(FIXME, FIXME, s = 20, c = 'FIXME', label = 'FIXME') # Cluster 3\n",
    "plt.FIXME(FIXME, FIXME, s = 20, c = 'FIXME', label = 'FIXME') # Cluster 4\n",
    "plt.FIXME(FIXME, FIXME, s = 20, c = 'FIXME', label = 'FIXME') # Cluster 5\n",
    "plt.FIXME(FIXME, FIXME, s = 50, c = 'FIXME', label = 'FIXME') # Plotting the cluster Centroids\n",
    "plt.FIXME('FIXME') # Plot title\n",
    "plt.FIXME('FIXME') # X-axis naming\n",
    "plt.FIXME('FIXME') # Y-axis naming\n",
    "plt.FIXME() # Plot the table (legend table)\n",
    "plt.show()"
   ]
  }
 ],
 "metadata": {
  "colab": {
   "authorship_tag": "ABX9TyN979dFKn9B6Ro9v0hJ4uqU",
   "name": "K-Means Clustering",
   "provenance": [],
   "toc_visible": true
  },
  "kernelspec": {
   "display_name": "Python 3 (ipykernel)",
   "language": "python",
   "name": "python3"
  },
  "language_info": {
   "codemirror_mode": {
    "name": "ipython",
    "version": 3
   },
   "file_extension": ".py",
   "mimetype": "text/x-python",
   "name": "python",
   "nbconvert_exporter": "python",
   "pygments_lexer": "ipython3",
   "version": "3.12.2"
  }
 },
 "nbformat": 4,
 "nbformat_minor": 4
}
