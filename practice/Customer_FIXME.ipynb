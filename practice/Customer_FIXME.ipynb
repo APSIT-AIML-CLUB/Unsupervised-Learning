{
 "cells": [
  {
   "cell_type": "code",
   "execution_count": null,
   "id": "8ceedd51-8cfb-48f1-8fa2-0fd1b38cf18c",
   "metadata": {},
   "outputs": [],
   "source": [
    "import numpy as np\n",
    "import matplotlib.pyplot as plt\n",
    "import pandas as pd\n",
    "import seaborn as sns\n",
    "sns.set_style(\"darkgrid\")"
   ]
  },
  {
   "cell_type": "code",
   "execution_count": null,
   "id": "6b09571b-b070-4e0d-b693-bef6157589f5",
   "metadata": {},
   "outputs": [],
   "source": [
    "# Read the csv file into a dataframe\n",
    "df = pd.FIXME(FIXME)\n",
    "\n",
    "# Print out the first 5 rows of the dataframe\n",
    "df.FIXME()"
   ]
  },
  {
   "cell_type": "code",
   "execution_count": null,
   "id": "b567e033-74ff-40b2-bb42-37ccbb11a7c7",
   "metadata": {},
   "outputs": [],
   "source": [
    "# Use any of the 2 appropriate columns across which you want to visualize the clusters\n",
    "col1, col2 = FIXME, FIMXE\n",
    "X = df.iloc[:, [FIXME, FIXME]].values\n",
    "x_axis_column = df.columns[FIXME]\n",
    "y_axis_column = df.columns[FIXME]"
   ]
  },
  {
   "cell_type": "markdown",
   "id": "6431d437-642e-45be-af8c-868f26cd966c",
   "metadata": {},
   "source": [
    "# 1. KMeans"
   ]
  },
  {
   "cell_type": "markdown",
   "id": "eb4a6d41-e4a1-472b-bca3-36ebf7776524",
   "metadata": {},
   "source": [
    "## 1.1 Calculate WCSS and Silhouette Scores"
   ]
  },
  {
   "cell_type": "code",
   "execution_count": null,
   "id": "7d9f70a7-17d0-4b9b-83c6-585da67fd803",
   "metadata": {},
   "outputs": [],
   "source": [
    "from sklearn.cluster import FIXME\n",
    "from sklearn.metrics import FIXME\n",
    "\n",
    "silhouette_scores = []\n",
    "wcss = []\n",
    "\n",
    "for i in range(FIXME, FIXME):  # Loop over the number of clusters that you want to test for\n",
    "    kmeans = KMeans(n_clusters=FIXME, init='FIXME', FIXME=42)\n",
    "    labels = kmeans.FIXME(X)\n",
    "    score = silhouette_score(X, FIXME)\n",
    "    # append both evaluation measures to the list of measures\n",
    "    FIXME.append(kmeans.FIXME)\n",
    "    FIXME.append(score)"
   ]
  },
  {
   "cell_type": "markdown",
   "id": "c2b732d8-725f-4558-bab8-0a75cfe2c2b5",
   "metadata": {},
   "source": [
    "## 1.2 Visualize WCSS and Silhouette Scores"
   ]
  },
  {
   "cell_type": "code",
   "execution_count": null,
   "id": "e38ebbfd-adb3-4a6a-a405-c73c79895383",
   "metadata": {},
   "outputs": [],
   "source": [
    "# Plotting the \"within cluster sum of squares\"\n",
    "\n",
    "# Look at the output and that is how your graph should look like\n",
    "plt.plot(range(FIXME, FIXME), FIXME, marker=\"o\")\n",
    "plt.FIXME('FIXME') # Plot title\n",
    "plt.FIXME('FIXME') # X-axis naming\n",
    "plt.FIXME('FIXME') # Y-axis naming\n",
    "plt.show()"
   ]
  },
  {
   "cell_type": "code",
   "execution_count": null,
   "id": "2bd53852-5e60-4ed3-921e-623e35cbb93a",
   "metadata": {},
   "outputs": [],
   "source": [
    "# Plot the silhouette scores here\n",
    "plt.plot(range(FIXME, FIXME), FIXME, marker=\"o\", color=\"FIXME\")\n",
    "plt.FIXME('FIXME') # Plot title\n",
    "plt.FIXME('FIXME') # X-axis naming\n",
    "plt.FIXME('FIXME') # Y-axis naming\n",
    "plt.show()"
   ]
  },
  {
   "cell_type": "markdown",
   "id": "79619eec-8077-41d6-ae11-2a9b8f159115",
   "metadata": {},
   "source": [
    "## 1.3 Train KMeans and plot clusters"
   ]
  },
  {
   "cell_type": "code",
   "execution_count": null,
   "id": "62b57bd0-45b7-4815-9277-7f97c666cc3c",
   "metadata": {},
   "outputs": [],
   "source": [
    "# Use the Optimal number of clusters found using WCSS and Silhouette scores\n",
    "kmeans = KMeans(n_clusters = FIXME, init = 'FIXME', FIXME = 42)\n",
    "y_kmeans = kmeans.FIXME(X)"
   ]
  },
  {
   "cell_type": "code",
   "execution_count": null,
   "id": "a135a649-decc-47c3-8d9a-bb94a8ef47f4",
   "metadata": {},
   "outputs": [],
   "source": [
    "# Plot all the clusters\n",
    "\n",
    "# Syntax: (x-axis_value, y-axis_value, size, color, label)\n",
    "# s: size of dots, c: color of dots\n",
    "plt.FIXME(FIXME, FIXME, s = 20, c = 'FIXME', label = 'FIXME') # Cluster 1\n",
    "#\n",
    "#\n",
    "#\n",
    "# You need to figure out using silhouette scores and wcss what number of clusters is ideal for this dataset\n",
    "plt.FIXME(FIXME, FIXME, s = 20, c = 'FIXME', label = 'FIXME') # Cluster n\n",
    "\n",
    "plt.FIXME(FIXME, FIXME, s = 50, c = 'FIXME', label = 'FIXME') # Plotting the cluster Centroids\n",
    "plt.FIXME('FIXME') # Plot title\n",
    "plt.FIXME('FIXME') # X-axis naming\n",
    "plt.FIXME('FIXME') # Y-axis naming\n",
    "plt.FIXME() # Plot the table (legend table)\n",
    "plt.show()"
   ]
  },
  {
   "cell_type": "markdown",
   "id": "b4985750-c56c-4f50-96dd-ef1d2d6f2799",
   "metadata": {},
   "source": [
    "# 2. Hierarchical"
   ]
  },
  {
   "cell_type": "markdown",
   "id": "d48f8829-6035-4ad2-93db-c77e903afa65",
   "metadata": {},
   "source": [
    "## 2.1 Plot Silhouette scores and Dendrogram"
   ]
  },
  {
   "cell_type": "code",
   "execution_count": null,
   "id": "b6600c49-5a1e-433e-b64a-9ae32ce22f75",
   "metadata": {},
   "outputs": [],
   "source": [
    "from sklearn.cluster import AgglomerativeClustering\n",
    "from sklearn.metrics import silhouette_score\n",
    "\n",
    "silhouette_scores = []\n",
    "\n",
    "for i in range(FIXME, FIXME):  # silhouette score needs at least 2 clusters\n",
    "    hc = AgglomerativeClustering(n_clusters = FIXME, metric = 'FIXME', linkage = 'FIXME')\n",
    "    labels = hc.FIXME(X)\n",
    "    score = FIXME(FIXME, FIXME)\n",
    "\n",
    "    silhouette_scores.append(score)"
   ]
  },
  {
   "cell_type": "code",
   "execution_count": null,
   "id": "0f60a2d9-bada-4f3c-b68d-a0f19a739191",
   "metadata": {},
   "outputs": [],
   "source": [
    "# Plot the silhouette scores\n",
    "plt.plot(range(FIXME, FIXME), FIXME, marker='o', color='FIXME')\n",
    "plt.title('FIXME')\n",
    "plt.xlabel('FIXME')\n",
    "plt.ylabel('FIXME')\n",
    "plt.show()"
   ]
  },
  {
   "cell_type": "code",
   "execution_count": null,
   "id": "e01ff3da-1190-4d2b-87a6-865aebdac6fd",
   "metadata": {},
   "outputs": [],
   "source": [
    "import scipy.cluster.hierarchy as sch\n",
    "dendrogram = sch.FIXME(sch.FIXME(FIXME, method = 'FIXME'))\n",
    "plt.FIXME('FIXME') # Plot title\n",
    "plt.FIXME('FIXME') # X-axis naming\n",
    "plt.FIXME('FIXME') # Y-axis naming\n",
    "plt.FIXME(y=FIXME, color=\"black\", linestyle=\"FIXME\") # Horizontal dotted line\n",
    "plt.show()"
   ]
  },
  {
   "cell_type": "markdown",
   "id": "c18a6e61-608b-4305-bf3e-29cebad2c3f8",
   "metadata": {},
   "source": [
    "## 2.2 Train Hierarchical and Plot clusters"
   ]
  },
  {
   "cell_type": "code",
   "execution_count": null,
   "id": "2430f025-ef1b-4710-a30a-3a933d83d7a1",
   "metadata": {},
   "outputs": [],
   "source": [
    "from sklearn.cluster import AgglomerativeClustering\n",
    "# Use optimal number of clusters using the dendogram\n",
    "hc = FIXME(n_clusters = FIXME, metric = 'FIXME', linkage = 'FIXME')\n",
    "y_hc = hc.FIXME(FIXME)"
   ]
  },
  {
   "cell_type": "code",
   "execution_count": null,
   "id": "2deeff05-d2b1-41f0-a9cf-b7292ea0e315",
   "metadata": {},
   "outputs": [],
   "source": [
    "# Plot all the clusters\n",
    "\n",
    "# Syntax: (x-axis_value, y-axis_value, size, color, label)\n",
    "# s: size of dots, c: color of dots\n",
    "plt.FIXME(FIXME, FIXME, s = 30, c = 'FIXME', label = 'FIXME') # Cluster 1\n",
    "#\n",
    "#\n",
    "#\n",
    "# You need to figure out using the dendogram vertical line split method and silhouette scores what is optimal number of clusters\n",
    "plt.FIXME(FIXME, FIXME, s = 20, c = 'FIXME', label = 'FIXME') # Cluster n\n",
    "\n",
    "plt.FIXME('FIXME') # Plot title\n",
    "plt.FIXME('FIXME') # X-axis naming\n",
    "plt.FIXME('FIXME') # Y-axis naming\n",
    "plt.FIXME() # Plot the table (legend table)\n",
    "plt.show()"
   ]
  }
 ],
 "metadata": {
  "kernelspec": {
   "display_name": "Python 3 (ipykernel)",
   "language": "python",
   "name": "python3"
  },
  "language_info": {
   "codemirror_mode": {
    "name": "ipython",
    "version": 3
   },
   "file_extension": ".py",
   "mimetype": "text/x-python",
   "name": "python",
   "nbconvert_exporter": "python",
   "pygments_lexer": "ipython3",
   "version": "3.12.2"
  }
 },
 "nbformat": 4,
 "nbformat_minor": 5
}
