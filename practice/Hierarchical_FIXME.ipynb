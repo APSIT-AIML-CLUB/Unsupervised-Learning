{
 "cells": [
  {
   "cell_type": "markdown",
   "metadata": {
    "colab_type": "text",
    "id": "TaQI437hM1Ho"
   },
   "source": [
    "## Importing the libraries"
   ]
  },
  {
   "cell_type": "code",
   "execution_count": null,
   "metadata": {
    "colab": {},
    "colab_type": "code",
    "id": "2UW48DgcM4YS"
   },
   "outputs": [],
   "source": [
    "import numpy as np\n",
    "import matplotlib.pyplot as plt\n",
    "import pandas as pd"
   ]
  },
  {
   "cell_type": "markdown",
   "metadata": {
    "colab_type": "text",
    "id": "gFeTEtDxM7K4"
   },
   "source": [
    "## Importing the dataset"
   ]
  },
  {
   "cell_type": "code",
   "execution_count": null,
   "metadata": {
    "colab": {},
    "colab_type": "code",
    "id": "4fS2J3HGM99q"
   },
   "outputs": [],
   "source": [
    "# Read the csv file into a dataframe\n",
    "df = pd.FIXME('FIXME.csv')\n",
    "\n",
    "# Print out the first 5 rows of the dataframe\n",
    "df.FIXME()"
   ]
  },
  {
   "cell_type": "code",
   "execution_count": null,
   "metadata": {},
   "outputs": [],
   "source": [
    "# After insepecting all the columns only choose the columns that would be necessary for clustering\n",
    "\n",
    "# Use \"index location\" method and extract all rows but only 2 cols (Spending score, Annual Income) over which we can visualize the clusters\n",
    "X= df.FIXME[FIXME, FIXME].values"
   ]
  },
  {
   "cell_type": "markdown",
   "metadata": {
    "colab_type": "text",
    "id": "czYMlG7cNBsu"
   },
   "source": [
    "## Using the silhouette scores and dendrograms to find the optimal number of clusters"
   ]
  },
  {
   "cell_type": "code",
   "execution_count": null,
   "metadata": {},
   "outputs": [],
   "source": [
    "from sklearn.cluster import AgglomerativeClustering\n",
    "from sklearn.metrics import silhouette_score\n",
    "\n",
    "silhouette_scores = []\n",
    "\n",
    "for i in range(FIXME, FIXME):  # silhouette score needs at least 2 clusters\n",
    "    hc = AgglomerativeClustering(n_clusters = FIXME, metric = 'FIXME', linkage = 'FIXME')\n",
    "    labels = hc.FIXME(X)\n",
    "    score = FIXME(FIXME, FIXME)\n",
    "\n",
    "    silhouette_scores.append(score)"
   ]
  },
  {
   "cell_type": "markdown",
   "metadata": {},
   "source": [
    "### Expected Output\n",
    "\n",
    "![Dendograms](../plots/Agglomerative_Silhouette.png)"
   ]
  },
  {
   "cell_type": "code",
   "execution_count": null,
   "metadata": {},
   "outputs": [],
   "source": [
    "# Plot the silhouette scores\n",
    "plt.plot(range(FIXME, FIXME), FIXME, marker='o', color='FIXME')\n",
    "plt.title('FIXME')\n",
    "plt.xlabel('FIXME')\n",
    "plt.ylabel('FIXME')\n",
    "plt.show()"
   ]
  },
  {
   "cell_type": "markdown",
   "metadata": {},
   "source": [
    "### Expected Output\n",
    "\n",
    "![Dendograms](../plots/Dendrogram.png)"
   ]
  },
  {
   "cell_type": "code",
   "execution_count": null,
   "metadata": {
    "colab": {
     "base_uri": "https://localhost:8080/",
     "height": 295
    },
    "colab_type": "code",
    "executionInfo": {
     "elapsed": 5911,
     "status": "ok",
     "timestamp": 1586373368071,
     "user": {
      "displayName": "Hadelin de Ponteves",
      "photoUrl": "https://lh3.googleusercontent.com/a-/AOh14GhEuXdT7eQweUmRPW8_laJuPggSK6hfvpl5a6WBaA=s64",
      "userId": "15047218817161520419"
     },
     "user_tz": -240
    },
    "id": "RDQODpAFNILO",
    "outputId": "89e9ce60-b3b6-4cf8-acd3-c6e00b321a32"
   },
   "outputs": [],
   "source": [
    "import scipy.cluster.hierarchy as sch\n",
    "dendrogram = sch.FIXME(sch.FIXME(FIXME, method = 'FIXME'))\n",
    "plt.FIXME('FIXME') # Plot title\n",
    "plt.FIXME('FIXME') # X-axis naming\n",
    "plt.FIXME('FIXME') # Y-axis naming\n",
    "plt.FIXME(y=120, color=\"gray\", linestyle=\"FIXME\") # Horizontal dotted line\n",
    "plt.FIXME(y=180, color=\"gray\", linestyle=\"FIXME\") # Horizontal dotted line\n",
    "plt.FIXME(y=240, color=\"gray\", linestyle=\"FIXME\") # Horizontal dotted line\n",
    "plt.FIXME(y=300, color=\"gray\", linestyle=\"FIXME\") # Horizontal dotted line\n",
    "plt.FIXME(y=360, color=\"gray\", linestyle=\"FIXME\") # Horizontal dotted line\n",
    "\n",
    "plt.show()"
   ]
  },
  {
   "cell_type": "markdown",
   "metadata": {
    "colab_type": "text",
    "id": "KDbXbo9INLF6"
   },
   "source": [
    "## Training the Hierarchical Clustering model on the dataset"
   ]
  },
  {
   "cell_type": "code",
   "execution_count": null,
   "metadata": {
    "colab": {},
    "colab_type": "code",
    "id": "IoH3zs2KNSw6"
   },
   "outputs": [],
   "source": [
    "from sklearn.cluster import AgglomerativeClustering\n",
    "# Use optimal number of clusters using the dendogram\n",
    "hc = FIXME(n_clusters = FIXME, metric = 'FIXME', linkage = 'FIXME')\n",
    "y_hc = hc.FIXME(FIXME)"
   ]
  },
  {
   "cell_type": "markdown",
   "metadata": {
    "colab_type": "text",
    "id": "X-SYG7l9NVmU"
   },
   "source": [
    "## Visualising the clusters"
   ]
  },
  {
   "cell_type": "markdown",
   "metadata": {},
   "source": [
    "### Expected Output\n",
    "\n",
    "![Hierarchical Clusters](../plots/Hierarchical.png)"
   ]
  },
  {
   "cell_type": "code",
   "execution_count": null,
   "metadata": {
    "colab": {
     "base_uri": "https://localhost:8080/",
     "height": 295
    },
    "colab_type": "code",
    "executionInfo": {
     "elapsed": 2321,
     "status": "ok",
     "timestamp": 1586373378543,
     "user": {
      "displayName": "Hadelin de Ponteves",
      "photoUrl": "https://lh3.googleusercontent.com/a-/AOh14GhEuXdT7eQweUmRPW8_laJuPggSK6hfvpl5a6WBaA=s64",
      "userId": "15047218817161520419"
     },
     "user_tz": -240
    },
    "id": "-91tDJrnNY2p",
    "outputId": "11458805-856c-440f-b2c8-9f7ce293c230"
   },
   "outputs": [],
   "source": [
    "# Plot all the clusters\n",
    "\n",
    "# Syntax: (x-axis_value, y-axis_value, size, color, label)\n",
    "# s: size of dots, c: color of dots\n",
    "plt.FIXME(FIXME, FIXME, s = 30, c = 'FIXME', label = 'FIXME') # Cluster 1\n",
    "plt.FIXME(FIXME, FIXME, s = 30, c = 'FIXME', label = 'FIXME') # Cluster 2\n",
    "plt.FIXME(FIXME, FIXME, s = 30, c = 'FIXME', label = 'FIXME') # Cluster 3\n",
    "plt.FIXME(FIXME, FIXME, s = 30, c = 'FIXME', label = 'FIXME') # Cluster 4\n",
    "plt.FIXME(FIXME, FIXME, s = 30, c = 'FIXME', label = 'FIXME') # Cluster 5\n",
    "\n",
    "\n",
    "plt.FIXME('FIXME') # Plot title\n",
    "plt.FIXME('FIXME') # X-axis naming\n",
    "plt.FIXME('FIXME') # Y-axis naming\n",
    "plt.FIXME() # Plot the table (legend table)\n",
    "plt.show()"
   ]
  }
 ],
 "metadata": {
  "colab": {
   "authorship_tag": "ABX9TyOE/Ghkv22sqrXHjexUJwPA",
   "collapsed_sections": [],
   "name": "Hierarchical Clustering",
   "provenance": [],
   "toc_visible": true
  },
  "kernelspec": {
   "display_name": "Python 3 (ipykernel)",
   "language": "python",
   "name": "python3"
  },
  "language_info": {
   "codemirror_mode": {
    "name": "ipython",
    "version": 3
   },
   "file_extension": ".py",
   "mimetype": "text/x-python",
   "name": "python",
   "nbconvert_exporter": "python",
   "pygments_lexer": "ipython3",
   "version": "3.12.2"
  }
 },
 "nbformat": 4,
 "nbformat_minor": 4
}
