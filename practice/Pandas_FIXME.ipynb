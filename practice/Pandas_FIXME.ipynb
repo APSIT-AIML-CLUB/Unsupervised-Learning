{
 "cells": [
  {
   "cell_type": "markdown",
   "id": "3388bc08",
   "metadata": {
    "editable": true,
    "id": "3388bc08",
    "papermill": {
     "duration": 0.011057,
     "end_time": "2024-09-02T17:29:11.115678",
     "exception": false,
     "start_time": "2024-09-02T17:29:11.104621",
     "status": "completed"
    },
    "slideshow": {
     "slide_type": ""
    },
    "tags": []
   },
   "source": [
    "# 0. Jupyter-Notebooks \n",
    "- Each cell is independent and can be run separately.\n",
    "- Even after deleting a cell if it was run, the variables in that cell are still a part of the memory\n",
    "- Every notebook works on kernel sessions\n",
    "- '!' command to run linux commands\n",
    "- %time -> gives you the runtime of each cell \n",
    "- Markdown and code cells\n",
    "- Some common keybindings: j, k, a, b, shift+enter, ctrl+enter, ctrl+z for undo, ctrl+a, double click, triple click\n",
    "- Drive Integration available for colab\n",
    "- GPU acceleration "
   ]
  },
  {
   "cell_type": "markdown",
   "id": "34ce4159-0513-43d3-9b65-99801867d2f5",
   "metadata": {},
   "source": [
    "# 1. Pandas"
   ]
  },
  {
   "cell_type": "code",
   "execution_count": null,
   "id": "9e12ed80",
   "metadata": {
    "id": "9e12ed80"
   },
   "outputs": [],
   "source": [
    "import pandas as pd"
   ]
  },
  {
   "cell_type": "markdown",
   "id": "MIcLlLsxMiAQ",
   "metadata": {
    "id": "MIcLlLsxMiAQ"
   },
   "source": [
    "- Why pandas?\n",
    "- why csvs?"
   ]
  },
  {
   "cell_type": "markdown",
   "id": "f347faba",
   "metadata": {
    "id": "f347faba",
    "papermill": {
     "duration": 0.008651,
     "end_time": "2024-09-02T17:29:11.628085",
     "exception": false,
     "start_time": "2024-09-02T17:29:11.619434",
     "status": "completed"
    },
    "tags": []
   },
   "source": [
    "## 1.1 Reading csvs\n",
    "This command parses a csv file and converts it into a pandas dataframe"
   ]
  },
  {
   "cell_type": "code",
   "execution_count": null,
   "id": "9e7c5c8e",
   "metadata": {
    "colab": {
     "base_uri": "https://localhost:8080/",
     "height": 519
    },
    "id": "9e7c5c8e",
    "outputId": "1823b5fd-c768-40eb-bb21-49371fc442d1",
    "papermill": {
     "duration": 1.024796,
     "end_time": "2024-09-02T17:29:12.661783",
     "exception": true,
     "start_time": "2024-09-02T17:29:11.636987",
     "status": "failed"
    },
    "tags": []
   },
   "outputs": [],
   "source": [
    "# Read csv into dataframe\n",
    "df = pd.FIXME(\"FIXME\")\n",
    "df"
   ]
  },
  {
   "cell_type": "markdown",
   "id": "pV2gRJtfD4Xy",
   "metadata": {
    "id": "pV2gRJtfD4Xy"
   },
   "source": [
    "## 1.2 Shape, rows and columns\n",
    "Commands to find the shape of the dataset, get the number of columns and rows"
   ]
  },
  {
   "cell_type": "code",
   "execution_count": null,
   "id": "419568db",
   "metadata": {
    "colab": {
     "base_uri": "https://localhost:8080/"
    },
    "id": "419568db",
    "outputId": "1fed3499-b877-4010-d88f-63884e0cfd38",
    "papermill": {
     "duration": null,
     "end_time": null,
     "exception": null,
     "start_time": null,
     "status": "pending"
    },
    "tags": []
   },
   "outputs": [],
   "source": [
    "# Getting information about the shape of the dataset\n",
    "print(f\"The shape of the dataset is as follows: {df.FIXME}\")\n",
    "print(f\"No. of rows: {df.FXIME[0]}\")\n",
    "print(f\"No. of columns: {df.FIXME[1]}\")"
   ]
  },
  {
   "cell_type": "markdown",
   "id": "BwwztXUSEfHv",
   "metadata": {
    "id": "BwwztXUSEfHv"
   },
   "source": [
    "## 1.3 Head and tail\n",
    "The head commands lets you see the head of the dataset (the top part)\n",
    "The tail commands lets you see the tail of the dataset (the bottom part)"
   ]
  },
  {
   "cell_type": "code",
   "execution_count": null,
   "id": "e23fc84d",
   "metadata": {
    "colab": {
     "base_uri": "https://localhost:8080/",
     "height": 206
    },
    "id": "e23fc84d",
    "outputId": "f6984475-58d3-4390-df2d-a830fbac2442",
    "papermill": {
     "duration": null,
     "end_time": null,
     "exception": null,
     "start_time": null,
     "status": "pending"
    },
    "tags": []
   },
   "outputs": [],
   "source": [
    "# displays the first 5 rows of the dataset\n",
    "df.FIXME()"
   ]
  },
  {
   "cell_type": "code",
   "execution_count": null,
   "id": "a7ef1f55",
   "metadata": {
    "colab": {
     "base_uri": "https://localhost:8080/",
     "height": 363
    },
    "id": "a7ef1f55",
    "outputId": "7d99070f-33a7-4e3e-c0df-1ae0f145db43",
    "papermill": {
     "duration": null,
     "end_time": null,
     "exception": null,
     "start_time": null,
     "status": "pending"
    },
    "tags": []
   },
   "outputs": [],
   "source": [
    "# you can pass a parameter that displays the exact amount of records that you want\n",
    "df.FIXME(FIXME)"
   ]
  },
  {
   "cell_type": "code",
   "execution_count": null,
   "id": "69696ccc",
   "metadata": {
    "colab": {
     "base_uri": "https://localhost:8080/",
     "height": 206
    },
    "id": "69696ccc",
    "outputId": "da590be1-4285-4a40-e207-bca49c485fb3",
    "papermill": {
     "duration": null,
     "end_time": null,
     "exception": null,
     "start_time": null,
     "status": "pending"
    },
    "tags": []
   },
   "outputs": [],
   "source": [
    "# displaying the last 5 records from the dataset\n",
    "df.FIXME()"
   ]
  },
  {
   "cell_type": "code",
   "execution_count": null,
   "id": "8954de8e",
   "metadata": {
    "colab": {
     "base_uri": "https://localhost:8080/",
     "height": 363
    },
    "id": "8954de8e",
    "outputId": "5e499ab8-9fd5-448b-9e4e-b06783261c57",
    "papermill": {
     "duration": null,
     "end_time": null,
     "exception": null,
     "start_time": null,
     "status": "pending"
    },
    "tags": []
   },
   "outputs": [],
   "source": [
    "# adding a parameter specifying the number of lines to display from the end\n",
    "df.FIXME(FIXME)"
   ]
  },
  {
   "cell_type": "markdown",
   "id": "1FioPqgfEu_E",
   "metadata": {
    "id": "1FioPqgfEu_E"
   },
   "source": [
    "## 1.3 Info, describe commands\n",
    "- Info lets you see the null values and datatypes for each column\n",
    "- Describe gives you a statistical description of the numerical column"
   ]
  },
  {
   "cell_type": "code",
   "execution_count": null,
   "id": "1c280f78",
   "metadata": {
    "colab": {
     "base_uri": "https://localhost:8080/"
    },
    "id": "1c280f78",
    "outputId": "98808ce7-869d-4b1a-b561-3dad96ca7007",
    "papermill": {
     "duration": null,
     "end_time": null,
     "exception": null,
     "start_time": null,
     "status": "pending"
    },
    "tags": []
   },
   "outputs": [],
   "source": [
    "# Run the \"info\" method to see datatypes, counts and null values\n",
    "df.FIXME()"
   ]
  },
  {
   "cell_type": "code",
   "execution_count": null,
   "id": "97b2d3ae",
   "metadata": {
    "colab": {
     "base_uri": "https://localhost:8080/",
     "height": 143
    },
    "id": "97b2d3ae",
    "outputId": "442521e3-33be-4ced-ad6c-6d5f9e2245c1",
    "papermill": {
     "duration": null,
     "end_time": null,
     "exception": null,
     "start_time": null,
     "status": "pending"
    },
    "tags": []
   },
   "outputs": [],
   "source": [
    "# describe method for see the statistical measures\n",
    "df.FIXME()"
   ]
  },
  {
   "cell_type": "code",
   "execution_count": null,
   "id": "2e1c1b50-5c88-42cd-b3b6-72a35044d5d0",
   "metadata": {},
   "outputs": [],
   "source": [
    "# Transpose the describe output for better view\n",
    "df.FIXME().T"
   ]
  },
  {
   "cell_type": "markdown",
   "id": "s_z5kieVHBD2",
   "metadata": {
    "id": "s_z5kieVHBD2"
   },
   "source": [
    "## 1.4 Iloc and loc\n",
    "- Used for selecting data\n",
    "- Basically the 'SELECT' query from SQL for dataframes"
   ]
  },
  {
   "cell_type": "code",
   "execution_count": null,
   "id": "5049a097",
   "metadata": {
    "colab": {
     "base_uri": "https://localhost:8080/",
     "height": 175
    },
    "id": "5049a097",
    "outputId": "462da56e-c2ae-405e-b9a8-3aee59c0a7db",
    "papermill": {
     "duration": null,
     "end_time": null,
     "exception": null,
     "start_time": null,
     "status": "pending"
    },
    "tags": []
   },
   "outputs": [],
   "source": [
    "# entries from 3rd row till last\n",
    "df.FIXME[FIXME]"
   ]
  },
  {
   "cell_type": "code",
   "execution_count": null,
   "id": "ee051428",
   "metadata": {
    "colab": {
     "base_uri": "https://localhost:8080/",
     "height": 143
    },
    "id": "ee051428",
    "outputId": "919be5d3-2745-47bc-9974-46d98f8821d3",
    "papermill": {
     "duration": null,
     "end_time": null,
     "exception": null,
     "start_time": null,
     "status": "pending"
    },
    "tags": []
   },
   "outputs": [],
   "source": [
    "# entries from first 3 rows\n",
    "df.FIXME[FIXME]"
   ]
  },
  {
   "cell_type": "code",
   "execution_count": null,
   "id": "19d4b950",
   "metadata": {
    "colab": {
     "base_uri": "https://localhost:8080/",
     "height": 519
    },
    "id": "19d4b950",
    "outputId": "10012f55-48ff-4825-eb93-94103d0be796",
    "papermill": {
     "duration": null,
     "end_time": null,
     "exception": null,
     "start_time": null,
     "status": "pending"
    },
    "tags": []
   },
   "outputs": [],
   "source": [
    "# entries for the first 2 columns\n",
    "df.FIXME[FIXME, FIXME]"
   ]
  },
  {
   "cell_type": "code",
   "execution_count": null,
   "id": "89730bb1",
   "metadata": {
    "colab": {
     "base_uri": "https://localhost:8080/",
     "height": 206
    },
    "id": "89730bb1",
    "outputId": "a586316e-9f7b-400c-fe3a-9165e01a9ea6",
    "papermill": {
     "duration": null,
     "end_time": null,
     "exception": null,
     "start_time": null,
     "status": "pending"
    },
    "tags": []
   },
   "outputs": [],
   "source": [
    "# first 3 entries of the first 2 columns\n",
    "df.iloc[FIXME, FIXME]"
   ]
  },
  {
   "cell_type": "code",
   "execution_count": null,
   "id": "b2663e2f-9254-41c8-b53e-d47cfd7d51e8",
   "metadata": {},
   "outputs": [],
   "source": [
    "# entries of the last column\n",
    "df.FIXME[FIXME, FIXME]"
   ]
  },
  {
   "cell_type": "markdown",
   "id": "9d24b29c-2a3b-45a0-aed4-cb05fd05bbb6",
   "metadata": {},
   "source": [
    "### 1.4.1 Loc & Iloc: Major difference"
   ]
  },
  {
   "cell_type": "code",
   "execution_count": null,
   "id": "614f9c7a",
   "metadata": {
    "colab": {
     "base_uri": "https://localhost:8080/",
     "height": 143
    },
    "id": "614f9c7a",
    "outputId": "85ed7fff-8332-4303-a0d5-fee84e456d07",
    "papermill": {
     "duration": null,
     "end_time": null,
     "exception": null,
     "start_time": null,
     "status": "pending"
    },
    "tags": []
   },
   "outputs": [],
   "source": [
    "# Now from here on use the loc method\n",
    "df.iloc[1:3]\n",
    "# notice how 3 is inclusive"
   ]
  },
  {
   "cell_type": "code",
   "execution_count": null,
   "id": "eQJuBfLHM96T",
   "metadata": {
    "colab": {
     "base_uri": "https://localhost:8080/",
     "height": 112
    },
    "id": "eQJuBfLHM96T",
    "outputId": "a7054432-6954-47d4-c874-ef6092d7c22b"
   },
   "outputs": [],
   "source": [
    "df.iloc[1:3]\n",
    "# notice how 3 is exclusive"
   ]
  },
  {
   "cell_type": "markdown",
   "id": "845885cf-3ea4-4fc2-9cfe-3a80e9d80390",
   "metadata": {},
   "source": [
    "### 1.4.2 Querying using loc"
   ]
  },
  {
   "cell_type": "code",
   "execution_count": null,
   "id": "da243a23",
   "metadata": {
    "colab": {
     "base_uri": "https://localhost:8080/",
     "height": 81
    },
    "id": "da243a23",
    "outputId": "7f33c404-78ce-4aa7-ec92-9d9c14c7a8d6",
    "papermill": {
     "duration": null,
     "end_time": null,
     "exception": null,
     "start_time": null,
     "status": "pending"
    },
    "tags": []
   },
   "outputs": [],
   "source": [
    "# Find rowws where the city is Mumbai\n",
    "df.FIXME[(df.FIXME == \"FIXME\")]"
   ]
  },
  {
   "cell_type": "code",
   "execution_count": null,
   "id": "a0f0c46a",
   "metadata": {
    "colab": {
     "base_uri": "https://localhost:8080/",
     "height": 175
    },
    "id": "a0f0c46a",
    "outputId": "973f1781-c411-4679-8434-95dbb3aa6972",
    "papermill": {
     "duration": null,
     "end_time": null,
     "exception": null,
     "start_time": null,
     "status": "pending"
    },
    "tags": []
   },
   "outputs": [],
   "source": [
    "# Find entries where city is one of [\"Mumbai\", \"Hyderabad\", \"Chennai\", \"Bangalore\"]\n",
    "df.FXIME[(df.FIXME.FIXME(FIXME))]"
   ]
  },
  {
   "cell_type": "code",
   "execution_count": null,
   "id": "b3cdaaa5",
   "metadata": {
    "colab": {
     "base_uri": "https://localhost:8080/",
     "height": 175
    },
    "id": "b3cdaaa5",
    "outputId": "9b9c5a20-3fa5-4968-b848-63f0af7354d5",
    "papermill": {
     "duration": null,
     "end_time": null,
     "exception": null,
     "start_time": null,
     "status": "pending"
    },
    "tags": []
   },
   "outputs": [],
   "source": [
    "# Fin entries where area is > 1000 and floor is 2\n",
    "df.FIXME[(df.FIXME > FIXME) FIXME (df.FIXME == FIXME)]"
   ]
  },
  {
   "cell_type": "code",
   "execution_count": null,
   "id": "e7e11da1-9e49-48dc-87af-2efcad02d95a",
   "metadata": {},
   "outputs": [],
   "source": [
    "# Find entries where area is less than 800 or floor is > 2\n",
    "df.FIXME[(df.FIXME < FIXME) FIXME (df.FIXME > FIXME)]"
   ]
  },
  {
   "cell_type": "markdown",
   "id": "6uOmXoDuIgCO",
   "metadata": {
    "id": "6uOmXoDuIgCO"
   },
   "source": [
    "## 1.5 Drop\n",
    "- Dropping rows and columns"
   ]
  },
  {
   "cell_type": "code",
   "execution_count": null,
   "id": "25485246",
   "metadata": {
    "colab": {
     "base_uri": "https://localhost:8080/",
     "height": 363
    },
    "id": "25485246",
    "outputId": "6c202ff6-5e75-4b4b-a7d0-3b2f6266f4db",
    "papermill": {
     "duration": null,
     "end_time": null,
     "exception": null,
     "start_time": null,
     "status": "pending"
    },
    "tags": []
   },
   "outputs": [],
   "source": [
    "# Create a copy with the first 10 records\n",
    "df_copy = df[FIXME]\n",
    "df_copy"
   ]
  },
  {
   "cell_type": "code",
   "execution_count": null,
   "id": "AM76E3o4Xt1u",
   "metadata": {
    "colab": {
     "base_uri": "https://localhost:8080/",
     "height": 363
    },
    "id": "AM76E3o4Xt1u",
    "outputId": "dfdaa393-c6d7-42cb-e1b3-de2d3b3f26c1"
   },
   "outputs": [],
   "source": [
    "# drop the city column\n",
    "df_copy.FIXME(FIXME = \"FIXME\")"
   ]
  },
  {
   "cell_type": "code",
   "execution_count": null,
   "id": "rC4nW5HVbApU",
   "metadata": {
    "colab": {
     "base_uri": "https://localhost:8080/",
     "height": 331
    },
    "id": "rC4nW5HVbApU",
    "outputId": "692644bd-c6e7-40e9-94c6-36f57bf2534f"
   },
   "outputs": [],
   "source": [
    "# drop the second record specifically\n",
    "df_copy.FIXME(FIXME = FIXME)"
   ]
  },
  {
   "cell_type": "code",
   "execution_count": null,
   "id": "O6zuRNMyajQq",
   "metadata": {
    "colab": {
     "base_uri": "https://localhost:8080/",
     "height": 300
    },
    "id": "O6zuRNMyajQq",
    "outputId": "61cea68f-188d-4cb3-c124-cd41486f880e"
   },
   "outputs": [],
   "source": [
    "# drop 3rd and 4rd records with horizontal axis\n",
    "df_copy.FIXME([FIXME, FXIME], axis = FIXME)"
   ]
  },
  {
   "cell_type": "code",
   "execution_count": null,
   "id": "RLEJhNBpX8g4",
   "metadata": {
    "colab": {
     "base_uri": "https://localhost:8080/",
     "height": 363
    },
    "id": "RLEJhNBpX8g4",
    "outputId": "68f5d289-8033-4bd6-9327-95231a68472c"
   },
   "outputs": [],
   "source": [
    "# drop the \"floor\" column with axis\n",
    "df_copy.FIXME(\"FIXME\", axis = FIXME)"
   ]
  },
  {
   "cell_type": "markdown",
   "id": "339d37c4-5a99-4a61-a56d-c941aac348b1",
   "metadata": {},
   "source": [
    "## 1.6 Miscellaneous\n",
    "- Dropping duplicates\n",
    "- Looking at unique values and nuniques\n",
    "- finiding nulls in the dataset\n",
    "- finding counts of all values in a column"
   ]
  },
  {
   "cell_type": "code",
   "execution_count": null,
   "id": "IKB4oN7hs3cU",
   "metadata": {
    "colab": {
     "base_uri": "https://localhost:8080/",
     "height": 519
    },
    "id": "IKB4oN7hs3cU",
    "outputId": "762a9f96-a0e2-4fe5-8060-73617bd9b3f8"
   },
   "outputs": [],
   "source": [
    "# drop duplicates when necessary\n",
    "df = df.FIXME()\n",
    "df"
   ]
  },
  {
   "cell_type": "code",
   "execution_count": null,
   "id": "hlWya2INtNNi",
   "metadata": {
    "colab": {
     "base_uri": "https://localhost:8080/",
     "height": 241
    },
    "id": "hlWya2INtNNi",
    "outputId": "686457c4-d3ad-44d3-9b27-a903080d3595"
   },
   "outputs": [],
   "source": [
    "# finding the number of nulls in each column\n",
    "df.FIXME().FIXME()\n",
    "# or df.isnull().sum()"
   ]
  },
  {
   "cell_type": "code",
   "execution_count": null,
   "id": "hOUVcr6tt2JD",
   "metadata": {
    "colab": {
     "base_uri": "https://localhost:8080/"
    },
    "id": "hOUVcr6tt2JD",
    "outputId": "b0e1129b-29c1-4631-90b5-cc471a045b1b"
   },
   "outputs": [],
   "source": [
    "# print the number of unique values in the \"city\" column and the unique values themselves\n",
    "print(\"The no. of unique values in city column: \", df[\"FIXME\"].FIXME())\n",
    "print(\"The unique values in city column: \", df[\"FIXME\"].FIXME())"
   ]
  },
  {
   "cell_type": "code",
   "execution_count": null,
   "id": "dc6cdce0-dca7-45a0-b1a0-d0cf0ae09500",
   "metadata": {},
   "outputs": [],
   "source": [
    "# finding counts of all values in a column\n",
    "df.FIXME.FIXME()"
   ]
  }
 ],
 "metadata": {
  "colab": {
   "provenance": []
  },
  "kaggle": {
   "accelerator": "none",
   "dataSources": [
    {
     "datasetId": 5632801,
     "sourceId": 9302559,
     "sourceType": "datasetVersion"
    }
   ],
   "isGpuEnabled": false,
   "isInternetEnabled": true,
   "language": "python",
   "sourceType": "notebook"
  },
  "kernelspec": {
   "display_name": "Python 3 (ipykernel)",
   "language": "python",
   "name": "python3"
  },
  "language_info": {
   "codemirror_mode": {
    "name": "ipython",
    "version": 3
   },
   "file_extension": ".py",
   "mimetype": "text/x-python",
   "name": "python",
   "nbconvert_exporter": "python",
   "pygments_lexer": "ipython3",
   "version": "3.12.2"
  },
  "papermill": {
   "default_parameters": {},
   "duration": 5.225442,
   "end_time": "2024-09-02T17:29:13.294653",
   "environment_variables": {},
   "exception": true,
   "input_path": "__notebook__.ipynb",
   "output_path": "__notebook__.ipynb",
   "parameters": {},
   "start_time": "2024-09-02T17:29:08.069211",
   "version": "2.6.0"
  }
 },
 "nbformat": 4,
 "nbformat_minor": 5
}
